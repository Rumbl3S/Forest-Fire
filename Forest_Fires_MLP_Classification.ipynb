{
  "nbformat": 4,
  "nbformat_minor": 0,
  "metadata": {
    "colab": {
      "provenance": []
    },
    "kernelspec": {
      "name": "python3",
      "display_name": "Python 3"
    },
    "language_info": {
      "name": "python"
    }
  },
  "cells": [
    {
      "cell_type": "code",
      "execution_count": null,
      "metadata": {
        "colab": {
          "base_uri": "https://localhost:8080/",
          "height": 262
        },
        "id": "t6y5IGl1GkLj",
        "outputId": "8ff8e788-0db4-49ff-e26d-9cdfa562285a"
      },
      "outputs": [
        {
          "output_type": "display_data",
          "data": {
            "text/plain": [
              "<IPython.core.display.HTML object>"
            ],
            "text/html": [
              "\n",
              "     <input type=\"file\" id=\"files-734ebcdb-f1e3-433e-b2cb-fa2686771f95\" name=\"files[]\" multiple disabled\n",
              "        style=\"border:none\" />\n",
              "     <output id=\"result-734ebcdb-f1e3-433e-b2cb-fa2686771f95\">\n",
              "      Upload widget is only available when the cell has been executed in the\n",
              "      current browser session. Please rerun this cell to enable.\n",
              "      </output>\n",
              "      <script>// Copyright 2017 Google LLC\n",
              "//\n",
              "// Licensed under the Apache License, Version 2.0 (the \"License\");\n",
              "// you may not use this file except in compliance with the License.\n",
              "// You may obtain a copy of the License at\n",
              "//\n",
              "//      http://www.apache.org/licenses/LICENSE-2.0\n",
              "//\n",
              "// Unless required by applicable law or agreed to in writing, software\n",
              "// distributed under the License is distributed on an \"AS IS\" BASIS,\n",
              "// WITHOUT WARRANTIES OR CONDITIONS OF ANY KIND, either express or implied.\n",
              "// See the License for the specific language governing permissions and\n",
              "// limitations under the License.\n",
              "\n",
              "/**\n",
              " * @fileoverview Helpers for google.colab Python module.\n",
              " */\n",
              "(function(scope) {\n",
              "function span(text, styleAttributes = {}) {\n",
              "  const element = document.createElement('span');\n",
              "  element.textContent = text;\n",
              "  for (const key of Object.keys(styleAttributes)) {\n",
              "    element.style[key] = styleAttributes[key];\n",
              "  }\n",
              "  return element;\n",
              "}\n",
              "\n",
              "// Max number of bytes which will be uploaded at a time.\n",
              "const MAX_PAYLOAD_SIZE = 100 * 1024;\n",
              "\n",
              "function _uploadFiles(inputId, outputId) {\n",
              "  const steps = uploadFilesStep(inputId, outputId);\n",
              "  const outputElement = document.getElementById(outputId);\n",
              "  // Cache steps on the outputElement to make it available for the next call\n",
              "  // to uploadFilesContinue from Python.\n",
              "  outputElement.steps = steps;\n",
              "\n",
              "  return _uploadFilesContinue(outputId);\n",
              "}\n",
              "\n",
              "// This is roughly an async generator (not supported in the browser yet),\n",
              "// where there are multiple asynchronous steps and the Python side is going\n",
              "// to poll for completion of each step.\n",
              "// This uses a Promise to block the python side on completion of each step,\n",
              "// then passes the result of the previous step as the input to the next step.\n",
              "function _uploadFilesContinue(outputId) {\n",
              "  const outputElement = document.getElementById(outputId);\n",
              "  const steps = outputElement.steps;\n",
              "\n",
              "  const next = steps.next(outputElement.lastPromiseValue);\n",
              "  return Promise.resolve(next.value.promise).then((value) => {\n",
              "    // Cache the last promise value to make it available to the next\n",
              "    // step of the generator.\n",
              "    outputElement.lastPromiseValue = value;\n",
              "    return next.value.response;\n",
              "  });\n",
              "}\n",
              "\n",
              "/**\n",
              " * Generator function which is called between each async step of the upload\n",
              " * process.\n",
              " * @param {string} inputId Element ID of the input file picker element.\n",
              " * @param {string} outputId Element ID of the output display.\n",
              " * @return {!Iterable<!Object>} Iterable of next steps.\n",
              " */\n",
              "function* uploadFilesStep(inputId, outputId) {\n",
              "  const inputElement = document.getElementById(inputId);\n",
              "  inputElement.disabled = false;\n",
              "\n",
              "  const outputElement = document.getElementById(outputId);\n",
              "  outputElement.innerHTML = '';\n",
              "\n",
              "  const pickedPromise = new Promise((resolve) => {\n",
              "    inputElement.addEventListener('change', (e) => {\n",
              "      resolve(e.target.files);\n",
              "    });\n",
              "  });\n",
              "\n",
              "  const cancel = document.createElement('button');\n",
              "  inputElement.parentElement.appendChild(cancel);\n",
              "  cancel.textContent = 'Cancel upload';\n",
              "  const cancelPromise = new Promise((resolve) => {\n",
              "    cancel.onclick = () => {\n",
              "      resolve(null);\n",
              "    };\n",
              "  });\n",
              "\n",
              "  // Wait for the user to pick the files.\n",
              "  const files = yield {\n",
              "    promise: Promise.race([pickedPromise, cancelPromise]),\n",
              "    response: {\n",
              "      action: 'starting',\n",
              "    }\n",
              "  };\n",
              "\n",
              "  cancel.remove();\n",
              "\n",
              "  // Disable the input element since further picks are not allowed.\n",
              "  inputElement.disabled = true;\n",
              "\n",
              "  if (!files) {\n",
              "    return {\n",
              "      response: {\n",
              "        action: 'complete',\n",
              "      }\n",
              "    };\n",
              "  }\n",
              "\n",
              "  for (const file of files) {\n",
              "    const li = document.createElement('li');\n",
              "    li.append(span(file.name, {fontWeight: 'bold'}));\n",
              "    li.append(span(\n",
              "        `(${file.type || 'n/a'}) - ${file.size} bytes, ` +\n",
              "        `last modified: ${\n",
              "            file.lastModifiedDate ? file.lastModifiedDate.toLocaleDateString() :\n",
              "                                    'n/a'} - `));\n",
              "    const percent = span('0% done');\n",
              "    li.appendChild(percent);\n",
              "\n",
              "    outputElement.appendChild(li);\n",
              "\n",
              "    const fileDataPromise = new Promise((resolve) => {\n",
              "      const reader = new FileReader();\n",
              "      reader.onload = (e) => {\n",
              "        resolve(e.target.result);\n",
              "      };\n",
              "      reader.readAsArrayBuffer(file);\n",
              "    });\n",
              "    // Wait for the data to be ready.\n",
              "    let fileData = yield {\n",
              "      promise: fileDataPromise,\n",
              "      response: {\n",
              "        action: 'continue',\n",
              "      }\n",
              "    };\n",
              "\n",
              "    // Use a chunked sending to avoid message size limits. See b/62115660.\n",
              "    let position = 0;\n",
              "    do {\n",
              "      const length = Math.min(fileData.byteLength - position, MAX_PAYLOAD_SIZE);\n",
              "      const chunk = new Uint8Array(fileData, position, length);\n",
              "      position += length;\n",
              "\n",
              "      const base64 = btoa(String.fromCharCode.apply(null, chunk));\n",
              "      yield {\n",
              "        response: {\n",
              "          action: 'append',\n",
              "          file: file.name,\n",
              "          data: base64,\n",
              "        },\n",
              "      };\n",
              "\n",
              "      let percentDone = fileData.byteLength === 0 ?\n",
              "          100 :\n",
              "          Math.round((position / fileData.byteLength) * 100);\n",
              "      percent.textContent = `${percentDone}% done`;\n",
              "\n",
              "    } while (position < fileData.byteLength);\n",
              "  }\n",
              "\n",
              "  // All done.\n",
              "  yield {\n",
              "    response: {\n",
              "      action: 'complete',\n",
              "    }\n",
              "  };\n",
              "}\n",
              "\n",
              "scope.google = scope.google || {};\n",
              "scope.google.colab = scope.google.colab || {};\n",
              "scope.google.colab._files = {\n",
              "  _uploadFiles,\n",
              "  _uploadFilesContinue,\n",
              "};\n",
              "})(self);\n",
              "</script> "
            ]
          },
          "metadata": {}
        },
        {
          "output_type": "stream",
          "name": "stdout",
          "text": [
            "Saving ALGERIANFORESTFIRES.csv to ALGERIANFORESTFIRES (1).csv\n"
          ]
        },
        {
          "output_type": "execute_result",
          "data": {
            "text/plain": [
              "   temp  RH  wind  rain  area\n",
              "0    29  57    18   0.0     0\n",
              "1    29  61    13   1.3     0\n",
              "2    26  82    22  13.1     0\n",
              "3    25  89    13   2.5     0\n",
              "4    27  77    16   0.0     0"
            ],
            "text/html": [
              "\n",
              "  <div id=\"df-c3d4d69a-7743-41dc-ad77-24b3918656d0\">\n",
              "    <div class=\"colab-df-container\">\n",
              "      <div>\n",
              "<style scoped>\n",
              "    .dataframe tbody tr th:only-of-type {\n",
              "        vertical-align: middle;\n",
              "    }\n",
              "\n",
              "    .dataframe tbody tr th {\n",
              "        vertical-align: top;\n",
              "    }\n",
              "\n",
              "    .dataframe thead th {\n",
              "        text-align: right;\n",
              "    }\n",
              "</style>\n",
              "<table border=\"1\" class=\"dataframe\">\n",
              "  <thead>\n",
              "    <tr style=\"text-align: right;\">\n",
              "      <th></th>\n",
              "      <th>temp</th>\n",
              "      <th>RH</th>\n",
              "      <th>wind</th>\n",
              "      <th>rain</th>\n",
              "      <th>area</th>\n",
              "    </tr>\n",
              "  </thead>\n",
              "  <tbody>\n",
              "    <tr>\n",
              "      <th>0</th>\n",
              "      <td>29</td>\n",
              "      <td>57</td>\n",
              "      <td>18</td>\n",
              "      <td>0.0</td>\n",
              "      <td>0</td>\n",
              "    </tr>\n",
              "    <tr>\n",
              "      <th>1</th>\n",
              "      <td>29</td>\n",
              "      <td>61</td>\n",
              "      <td>13</td>\n",
              "      <td>1.3</td>\n",
              "      <td>0</td>\n",
              "    </tr>\n",
              "    <tr>\n",
              "      <th>2</th>\n",
              "      <td>26</td>\n",
              "      <td>82</td>\n",
              "      <td>22</td>\n",
              "      <td>13.1</td>\n",
              "      <td>0</td>\n",
              "    </tr>\n",
              "    <tr>\n",
              "      <th>3</th>\n",
              "      <td>25</td>\n",
              "      <td>89</td>\n",
              "      <td>13</td>\n",
              "      <td>2.5</td>\n",
              "      <td>0</td>\n",
              "    </tr>\n",
              "    <tr>\n",
              "      <th>4</th>\n",
              "      <td>27</td>\n",
              "      <td>77</td>\n",
              "      <td>16</td>\n",
              "      <td>0.0</td>\n",
              "      <td>0</td>\n",
              "    </tr>\n",
              "  </tbody>\n",
              "</table>\n",
              "</div>\n",
              "      <button class=\"colab-df-convert\" onclick=\"convertToInteractive('df-c3d4d69a-7743-41dc-ad77-24b3918656d0')\"\n",
              "              title=\"Convert this dataframe to an interactive table.\"\n",
              "              style=\"display:none;\">\n",
              "        \n",
              "  <svg xmlns=\"http://www.w3.org/2000/svg\" height=\"24px\"viewBox=\"0 0 24 24\"\n",
              "       width=\"24px\">\n",
              "    <path d=\"M0 0h24v24H0V0z\" fill=\"none\"/>\n",
              "    <path d=\"M18.56 5.44l.94 2.06.94-2.06 2.06-.94-2.06-.94-.94-2.06-.94 2.06-2.06.94zm-11 1L8.5 8.5l.94-2.06 2.06-.94-2.06-.94L8.5 2.5l-.94 2.06-2.06.94zm10 10l.94 2.06.94-2.06 2.06-.94-2.06-.94-.94-2.06-.94 2.06-2.06.94z\"/><path d=\"M17.41 7.96l-1.37-1.37c-.4-.4-.92-.59-1.43-.59-.52 0-1.04.2-1.43.59L10.3 9.45l-7.72 7.72c-.78.78-.78 2.05 0 2.83L4 21.41c.39.39.9.59 1.41.59.51 0 1.02-.2 1.41-.59l7.78-7.78 2.81-2.81c.8-.78.8-2.07 0-2.86zM5.41 20L4 18.59l7.72-7.72 1.47 1.35L5.41 20z\"/>\n",
              "  </svg>\n",
              "      </button>\n",
              "      \n",
              "  <style>\n",
              "    .colab-df-container {\n",
              "      display:flex;\n",
              "      flex-wrap:wrap;\n",
              "      gap: 12px;\n",
              "    }\n",
              "\n",
              "    .colab-df-convert {\n",
              "      background-color: #E8F0FE;\n",
              "      border: none;\n",
              "      border-radius: 50%;\n",
              "      cursor: pointer;\n",
              "      display: none;\n",
              "      fill: #1967D2;\n",
              "      height: 32px;\n",
              "      padding: 0 0 0 0;\n",
              "      width: 32px;\n",
              "    }\n",
              "\n",
              "    .colab-df-convert:hover {\n",
              "      background-color: #E2EBFA;\n",
              "      box-shadow: 0px 1px 2px rgba(60, 64, 67, 0.3), 0px 1px 3px 1px rgba(60, 64, 67, 0.15);\n",
              "      fill: #174EA6;\n",
              "    }\n",
              "\n",
              "    [theme=dark] .colab-df-convert {\n",
              "      background-color: #3B4455;\n",
              "      fill: #D2E3FC;\n",
              "    }\n",
              "\n",
              "    [theme=dark] .colab-df-convert:hover {\n",
              "      background-color: #434B5C;\n",
              "      box-shadow: 0px 1px 3px 1px rgba(0, 0, 0, 0.15);\n",
              "      filter: drop-shadow(0px 1px 2px rgba(0, 0, 0, 0.3));\n",
              "      fill: #FFFFFF;\n",
              "    }\n",
              "  </style>\n",
              "\n",
              "      <script>\n",
              "        const buttonEl =\n",
              "          document.querySelector('#df-c3d4d69a-7743-41dc-ad77-24b3918656d0 button.colab-df-convert');\n",
              "        buttonEl.style.display =\n",
              "          google.colab.kernel.accessAllowed ? 'block' : 'none';\n",
              "\n",
              "        async function convertToInteractive(key) {\n",
              "          const element = document.querySelector('#df-c3d4d69a-7743-41dc-ad77-24b3918656d0');\n",
              "          const dataTable =\n",
              "            await google.colab.kernel.invokeFunction('convertToInteractive',\n",
              "                                                     [key], {});\n",
              "          if (!dataTable) return;\n",
              "\n",
              "          const docLinkHtml = 'Like what you see? Visit the ' +\n",
              "            '<a target=\"_blank\" href=https://colab.research.google.com/notebooks/data_table.ipynb>data table notebook</a>'\n",
              "            + ' to learn more about interactive tables.';\n",
              "          element.innerHTML = '';\n",
              "          dataTable['output_type'] = 'display_data';\n",
              "          await google.colab.output.renderOutput(dataTable, element);\n",
              "          const docLink = document.createElement('div');\n",
              "          docLink.innerHTML = docLinkHtml;\n",
              "          element.appendChild(docLink);\n",
              "        }\n",
              "      </script>\n",
              "    </div>\n",
              "  </div>\n",
              "  "
            ]
          },
          "metadata": {},
          "execution_count": 19
        }
      ],
      "source": [
        "#Using MLP Classification techniques and analysis to determine the severity of forest fires\n",
        "#Predicting Forest Fire Probability And Severity Using A Multi-layer Perceptron Classifier On Meteorological Data\n",
        "import tensorflow as tf\n",
        "import numpy as np\n",
        "import pandas as pd\n",
        "from tensorflow import keras\n",
        "from tensorflow.keras import layers\n",
        "from google.colab import files\n",
        "import os\n",
        "\n",
        "import seaborn as sns\n",
        "import matplotlib.pyplot as plt\n",
        "\n",
        "from sklearn.linear_model import LogisticRegression\n",
        "from sklearn.neural_network import MLPClassifier\n",
        "from sklearn.neighbors import KNeighborsClassifier\n",
        "from sklearn.tree import DecisionTreeClassifier\n",
        "import matplotlib.pyplot as plt\n",
        "import numpy as np\n",
        "from sklearn import datasets, linear_model\n",
        "from sklearn.metrics import mean_squared_error, r2_score\n",
        "import pandas as pd\n",
        "import io\n",
        "%matplotlib inline\n",
        "import matplotlib.pyplot as plt\n",
        "import seaborn as sns; sns.set()\n",
        "from sklearn import preprocessing\n",
        "plt.rc(\"font\", size = 14)\n",
        "from sklearn.linear_model import LogisticRegression\n",
        "from sklearn.model_selection import train_test_split\n",
        "sns.set(style=\"white\")\n",
        "sns.set(style=\"whitegrid\", color_codes = True)\n",
        "\n",
        "from sklearn.metrics import accuracy_score, confusion_matrix\n",
        "from sklearn.metrics import classification_report\n",
        "from sklearn import model_selection\n",
        "uploaded = files.upload()\n",
        "df = pd.read_csv(io.StringIO(uploaded['ALGERIANFORESTFIRES.csv'].decode('utf-8')))\n",
        "df.head()"
      ]
    },
    {
      "cell_type": "code",
      "source": [
        "import tensorflow as tf\n",
        "import numpy as np\n",
        "import pandas as pd\n",
        "from tensorflow import keras\n",
        "from tensorflow.keras import layers\n",
        "from google.colab import files\n",
        "import os\n",
        "from sklearn.neural_network import MLPClassifier\n",
        "from tensorflow.keras.layers import IntegerLookup\n",
        "from tensorflow.keras.layers import Normalization\n",
        "from tensorflow.keras.layers import StringLookup\n",
        "from keras import callbacks\n",
        "from sklearn.model_selection import train_test_split"
      ],
      "metadata": {
        "id": "0hN4tYLhGtUN"
      },
      "execution_count": null,
      "outputs": []
    },
    {
      "cell_type": "code",
      "source": [
        "val_dataframe = df.sample(frac=0.2, random_state=1337)\n",
        "train_dataframe = df.drop(val_dataframe.index)\n",
        "print(train_dataframe)\n",
        "df.shape\n",
        "df.area.hist()"
      ],
      "metadata": {
        "colab": {
          "base_uri": "https://localhost:8080/",
          "height": 528
        },
        "id": "aIbuHj5bGwwo",
        "outputId": "e1163488-9408-43a1-fc72-94c7e286e035"
      },
      "execution_count": null,
      "outputs": [
        {
          "output_type": "stream",
          "name": "stdout",
          "text": [
            "     temp  RH  wind  rain  area\n",
            "0      29  57    18   0.0     0\n",
            "1      29  61    13   1.3     0\n",
            "2      26  82    22  13.1     0\n",
            "3      25  89    13   2.5     0\n",
            "4      27  77    16   0.0     0\n",
            "..    ...  ..   ...   ...   ...\n",
            "238    30  65    14   0.0     1\n",
            "239    28  87    15   4.4     0\n",
            "240    27  87    29   0.5     0\n",
            "241    24  54    18   0.1     0\n",
            "242    24  64    15   0.2     0\n",
            "\n",
            "[194 rows x 5 columns]\n"
          ]
        },
        {
          "output_type": "execute_result",
          "data": {
            "text/plain": [
              "<AxesSubplot:>"
            ]
          },
          "metadata": {},
          "execution_count": 21
        },
        {
          "output_type": "display_data",
          "data": {
            "text/plain": [
              "<Figure size 432x288 with 1 Axes>"
            ],
            "image/png": "[encoded data removed]"
          },
          "metadata": {}
        }
      ]
    },
    {
      "cell_type": "code",
      "source": [
        "def dataframe_to_dataset(df):\n",
        "    df = df.copy()\n",
        "    labels = df.pop(\"area\")\n",
        "    ds = tf.data.Dataset.from_tensor_slices((dict(df), labels))\n",
        "    ds = ds.shuffle(buffer_size=len(df))\n",
        "    return ds\n",
        "\n",
        "a = len(df.index)\n",
        "train_ds = dataframe_to_dataset(train_dataframe)\n",
        "print(train_ds)\n",
        "val_ds = dataframe_to_dataset(val_dataframe)\n",
        "for x, y in train_ds.take(1):\n",
        "    print(\"Input:\", x)\n",
        "    print(\"Target:\", y)\n",
        "#for portuguese confusion matrix to work\n",
        "#train_ds = train_ds.batch(int(2*a/3))\n",
        "#val_ds = val_ds.batch(int(a/3))\n",
        "train_ds = train_ds.batch(50)\n",
        "val_ds = val_ds.batch(50)"
      ],
      "metadata": {
        "colab": {
          "base_uri": "https://localhost:8080/"
        },
        "id": "JaXryAn6Gy5V",
        "outputId": "ea7ea30c-dba5-413e-c1e1-4146fd1a290b"
      },
      "execution_count": null,
      "outputs": [
        {
          "output_type": "stream",
          "name": "stdout",
          "text": [
            "<ShuffleDataset element_spec=({'temp': TensorSpec(shape=(), dtype=tf.int64, name=None), 'RH': TensorSpec(shape=(), dtype=tf.int64, name=None), 'wind': TensorSpec(shape=(), dtype=tf.int64, name=None), 'rain': TensorSpec(shape=(), dtype=tf.float64, name=None)}, TensorSpec(shape=(), dtype=tf.int64, name=None))>\n",
            "Input: {'temp': <tf.Tensor: shape=(), dtype=int64, numpy=34>, 'RH': <tf.Tensor: shape=(), dtype=int64, numpy=59>, 'wind': <tf.Tensor: shape=(), dtype=int64, numpy=16>, 'rain': <tf.Tensor: shape=(), dtype=float64, numpy=0.0>}\n",
            "Target: tf.Tensor(1, shape=(), dtype=int64)\n"
          ]
        }
      ]
    },
    {
      "cell_type": "code",
      "source": [
        "from tensorflow.keras.layers import IntegerLookup\n",
        "from tensorflow.keras.layers import Normalization\n",
        "from tensorflow.keras.layers import StringLookup\n",
        "\n",
        "\n",
        "def encode_numerical_feature(feature, name, dataset):\n",
        "    # Create a Normalization layer\n",
        "    normalizer = Normalization(input_shape = [1,])\n",
        "    tf.keras.layers.Input(shape=(1,))\n",
        "    # Prepare a Dataset\n",
        "    feature_ds = dataset.map(lambda x, y: x[name])\n",
        "    feature_ds = feature_ds.map(lambda x: tf.expand_dims(x, -1))\n",
        "\n",
        "    # Learn the stats\n",
        "    normalizer.adapt(feature_ds)\n",
        "\n",
        "    # Normalize the input\n",
        "    encoded_feature = normalizer(feature)\n",
        "    return encoded_feature"
      ],
      "metadata": {
        "id": "JO1LiKF-I6Og"
      },
      "execution_count": null,
      "outputs": []
    },
    {
      "cell_type": "code",
      "source": [
        "temp = keras.Input(shape=(1,), name=\"temp\")\n",
        "wind = keras.Input(shape=(1,), name=\"wind\")\n",
        "rain = keras.Input(shape=(1,), name=\"rain\")\n",
        "RH = keras.Input(shape=(1,), name=\"RH\")"
      ],
      "metadata": {
        "id": "p_lFY_5ZI91h"
      },
      "execution_count": null,
      "outputs": []
    },
    {
      "cell_type": "code",
      "source": [
        "all_inputs = [\n",
        "    temp,\n",
        "    wind,\n",
        "    rain,\n",
        "    RH,\n",
        "]\n",
        "temp_encoded = encode_numerical_feature(temp, \"temp\", train_ds)\n",
        "wind_encoded = encode_numerical_feature(wind, \"wind\", train_ds)\n",
        "rain_encoded = encode_numerical_feature(rain, \"rain\", train_ds)\n",
        "RH_encoded = encode_numerical_feature(RH, \"RH\", train_ds)\n",
        "all_features = layers.concatenate(\n",
        "    [\n",
        "        temp_encoded,\n",
        "        wind_encoded,\n",
        "        rain_encoded,\n",
        "        RH_encoded,\n",
        "    ]\n",
        ")\n",
        "#model = keras.Model(all_inputs, output)\n",
        "#model.compile(\"adam\", \"binary_crossentropy\", metrics=[\"accuracy\"])\n",
        "x = layers.Dense(32, activation=\"relu\")(all_features)\n",
        "x=layers.Dropout(0.5)(x)\n",
        "x = layers.Dense(32, activation=\"linear\")(all_features)\n",
        "x = layers.Dropout(0.5)(x)\n",
        "output = layers.Dense(1, activation=\"sigmoid\")(x)\n",
        "model = keras.Model(all_inputs, output)\n",
        "model.compile(\"adam\", \"binary_crossentropy\", metrics=[\"accuracy\"])\n",
        "#x = layers.Dense(32, activation=\"relu\")(all_features)\n",
        "#x = layers.Dense(32, activation=\"linear\")(all_features)\n",
        "#x = layers.Dropout(0.5)(x)\n",
        "#output = layers.Dense(1, activation=\"sigmoid\")(x)\n",
        "#model = keras.Model(all_inputs, output)\n",
        "#model.compile(\"adam\", \"binary_crossentropy\", metrics=[\"accuracy\"])\n",
        "#from tensorflow import keras\n",
        "\n",
        "#model = keras.Sequential(\n",
        " #   [\n",
        "  #      keras.layers.Dense(\n",
        "   #         256, activation=\"relu\", input_shape=(all_features.shape[-1],)\n",
        "    #    ),\n",
        "     #   keras.layers.Dense(256, activation=\"relu\"),\n",
        "      #  keras.layers.Dropout(0.3),\n",
        "       # keras.layers.Dense(256, activation=\"relu\"),\n",
        "        #keras.layers.Dropout(0.3),\n",
        "        #keras.layers.Dense(1, activation=\"sigmoid\"),\n",
        "   # ]\n",
        "#)\n",
        "#model.compile(\n",
        " #   optimizer=keras.optimizers.Adam(1e-2), loss=\"binary_crossentropy\", metrics=\"accuracy\"\n",
        "#)"
      ],
      "metadata": {
        "id": "9TgDpuuwJAn2"
      },
      "execution_count": null,
      "outputs": []
    },
    {
      "cell_type": "code",
      "source": [
        "keras.utils.plot_model(model, show_shapes=True, rankdir=\"LR\")\n"
      ],
      "metadata": {
        "colab": {
          "base_uri": "https://localhost:8080/",
          "height": 385
        },
        "id": "xlWFRoSSJsoX",
        "outputId": "71bada47-91ec-4417-a8d3-2a8da8903468"
      },
      "execution_count": null,
      "outputs": [
        {
          "output_type": "execute_result",
          "data": {
            "image/png": "[encoded data removed]",
            "text/plain": [
              "<IPython.core.display.Image object>"
            ]
          },
          "metadata": {},
          "execution_count": 26
        }
      ]
    },
    {
      "cell_type": "code",
      "source": [
        "#np.expand_dims(train_ds, axis = 0)\n",
        "from keras import callbacks\n",
        "\n",
        "earlystopping = callbacks.EarlyStopping(monitor =\"val_accuracy\",\n",
        "\t\t\t\t\t\t\t\t\t\tmode =\"max\", patience = 30,\n",
        "\t\t\t\t\t\t\t\t\t\trestore_best_weights = True)\n",
        "history = model.fit(train_ds, epochs=100, validation_data=val_ds,callbacks =[earlystopping])"
      ],
      "metadata": {
        "colab": {
          "base_uri": "https://localhost:8080/"
        },
        "id": "Ogd79O01KHJI",
        "outputId": "e48dbf6a-79fb-4e73-8295-080912e7d6d9"
      },
      "execution_count": null,
      "outputs": [
        {
          "output_type": "stream",
          "name": "stdout",
          "text": [
            "Epoch 1/100\n",
            "4/4 [==============================] - 1s 76ms/step - loss: 0.7152 - accuracy: 0.5670 - val_loss: 0.6709 - val_accuracy: 0.5714\n",
            "Epoch 2/100\n",
            "4/4 [==============================] - 0s 16ms/step - loss: 0.7314 - accuracy: 0.5464 - val_loss: 0.6569 - val_accuracy: 0.6531\n",
            "Epoch 3/100\n",
            "4/4 [==============================] - 0s 12ms/step - loss: 0.6771 - accuracy: 0.5412 - val_loss: 0.6439 - val_accuracy: 0.6735\n",
            "Epoch 4/100\n",
            "4/4 [==============================] - 0s 13ms/step - loss: 0.6314 - accuracy: 0.6804 - val_loss: 0.6316 - val_accuracy: 0.6735\n",
            "Epoch 5/100\n",
            "4/4 [==============================] - 0s 17ms/step - loss: 0.6295 - accuracy: 0.6237 - val_loss: 0.6213 - val_accuracy: 0.6122\n",
            "Epoch 6/100\n",
            "4/4 [==============================] - 0s 8ms/step - loss: 0.5883 - accuracy: 0.7320 - val_loss: 0.6117 - val_accuracy: 0.6531\n",
            "Epoch 7/100\n",
            "4/4 [==============================] - 0s 11ms/step - loss: 0.5975 - accuracy: 0.7165 - val_loss: 0.6031 - val_accuracy: 0.6531\n",
            "Epoch 8/100\n",
            "4/4 [==============================] - 0s 16ms/step - loss: 0.5872 - accuracy: 0.6598 - val_loss: 0.5956 - val_accuracy: 0.6531\n",
            "Epoch 9/100\n",
            "4/4 [==============================] - 0s 10ms/step - loss: 0.5828 - accuracy: 0.7268 - val_loss: 0.5885 - val_accuracy: 0.6531\n",
            "Epoch 10/100\n",
            "4/4 [==============================] - 0s 9ms/step - loss: 0.5534 - accuracy: 0.7062 - val_loss: 0.5818 - val_accuracy: 0.6531\n",
            "Epoch 11/100\n",
            "4/4 [==============================] - 0s 13ms/step - loss: 0.5739 - accuracy: 0.7113 - val_loss: 0.5754 - val_accuracy: 0.6735\n",
            "Epoch 12/100\n",
            "4/4 [==============================] - 0s 9ms/step - loss: 0.5088 - accuracy: 0.7577 - val_loss: 0.5695 - val_accuracy: 0.6735\n",
            "Epoch 13/100\n",
            "4/4 [==============================] - 0s 10ms/step - loss: 0.5382 - accuracy: 0.7320 - val_loss: 0.5638 - val_accuracy: 0.6939\n",
            "Epoch 14/100\n",
            "4/4 [==============================] - 0s 10ms/step - loss: 0.5138 - accuracy: 0.7732 - val_loss: 0.5584 - val_accuracy: 0.7143\n",
            "Epoch 15/100\n",
            "4/4 [==============================] - 0s 14ms/step - loss: 0.5035 - accuracy: 0.7732 - val_loss: 0.5529 - val_accuracy: 0.7143\n",
            "Epoch 16/100\n",
            "4/4 [==============================] - 0s 12ms/step - loss: 0.5037 - accuracy: 0.7784 - val_loss: 0.5482 - val_accuracy: 0.7347\n",
            "Epoch 17/100\n",
            "4/4 [==============================] - 0s 9ms/step - loss: 0.4947 - accuracy: 0.7835 - val_loss: 0.5441 - val_accuracy: 0.7347\n",
            "Epoch 18/100\n",
            "4/4 [==============================] - 0s 9ms/step - loss: 0.5013 - accuracy: 0.7577 - val_loss: 0.5401 - val_accuracy: 0.7551\n",
            "Epoch 19/100\n",
            "4/4 [==============================] - 0s 12ms/step - loss: 0.5111 - accuracy: 0.7577 - val_loss: 0.5368 - val_accuracy: 0.7551\n",
            "Epoch 20/100\n",
            "4/4 [==============================] - 0s 12ms/step - loss: 0.4958 - accuracy: 0.7629 - val_loss: 0.5335 - val_accuracy: 0.7551\n",
            "Epoch 21/100\n",
            "4/4 [==============================] - 0s 14ms/step - loss: 0.4912 - accuracy: 0.7629 - val_loss: 0.5305 - val_accuracy: 0.7551\n",
            "Epoch 22/100\n",
            "4/4 [==============================] - 0s 9ms/step - loss: 0.4816 - accuracy: 0.7165 - val_loss: 0.5279 - val_accuracy: 0.7551\n",
            "Epoch 23/100\n",
            "4/4 [==============================] - 0s 8ms/step - loss: 0.4853 - accuracy: 0.7680 - val_loss: 0.5256 - val_accuracy: 0.7551\n",
            "Epoch 24/100\n",
            "4/4 [==============================] - 0s 9ms/step - loss: 0.4877 - accuracy: 0.7526 - val_loss: 0.5229 - val_accuracy: 0.7551\n",
            "Epoch 25/100\n",
            "4/4 [==============================] - 0s 9ms/step - loss: 0.4880 - accuracy: 0.7680 - val_loss: 0.5206 - val_accuracy: 0.7551\n",
            "Epoch 26/100\n",
            "4/4 [==============================] - 0s 10ms/step - loss: 0.4919 - accuracy: 0.7268 - val_loss: 0.5186 - val_accuracy: 0.7551\n",
            "Epoch 27/100\n",
            "4/4 [==============================] - 0s 8ms/step - loss: 0.5044 - accuracy: 0.7526 - val_loss: 0.5165 - val_accuracy: 0.7551\n",
            "Epoch 28/100\n",
            "4/4 [==============================] - 0s 11ms/step - loss: 0.4914 - accuracy: 0.7629 - val_loss: 0.5147 - val_accuracy: 0.7755\n",
            "Epoch 29/100\n",
            "4/4 [==============================] - 0s 9ms/step - loss: 0.4959 - accuracy: 0.7629 - val_loss: 0.5130 - val_accuracy: 0.7755\n",
            "Epoch 30/100\n",
            "4/4 [==============================] - 0s 9ms/step - loss: 0.4618 - accuracy: 0.7629 - val_loss: 0.5117 - val_accuracy: 0.7755\n",
            "Epoch 31/100\n",
            "4/4 [==============================] - 0s 9ms/step - loss: 0.4404 - accuracy: 0.8093 - val_loss: 0.5101 - val_accuracy: 0.7755\n",
            "Epoch 32/100\n",
            "4/4 [==============================] - 0s 9ms/step - loss: 0.4667 - accuracy: 0.7990 - val_loss: 0.5085 - val_accuracy: 0.7755\n",
            "Epoch 33/100\n",
            "4/4 [==============================] - 0s 9ms/step - loss: 0.4650 - accuracy: 0.7990 - val_loss: 0.5076 - val_accuracy: 0.7755\n",
            "Epoch 34/100\n",
            "4/4 [==============================] - 0s 9ms/step - loss: 0.4665 - accuracy: 0.7784 - val_loss: 0.5064 - val_accuracy: 0.7959\n",
            "Epoch 35/100\n",
            "4/4 [==============================] - 0s 17ms/step - loss: 0.5063 - accuracy: 0.7835 - val_loss: 0.5053 - val_accuracy: 0.7959\n",
            "Epoch 36/100\n",
            "4/4 [==============================] - 0s 13ms/step - loss: 0.4707 - accuracy: 0.7938 - val_loss: 0.5039 - val_accuracy: 0.8163\n",
            "Epoch 37/100\n",
            "4/4 [==============================] - 0s 9ms/step - loss: 0.4420 - accuracy: 0.7938 - val_loss: 0.5027 - val_accuracy: 0.8163\n",
            "Epoch 38/100\n",
            "4/4 [==============================] - 0s 9ms/step - loss: 0.4599 - accuracy: 0.7784 - val_loss: 0.5009 - val_accuracy: 0.8163\n",
            "Epoch 39/100\n",
            "4/4 [==============================] - 0s 9ms/step - loss: 0.4497 - accuracy: 0.7887 - val_loss: 0.4991 - val_accuracy: 0.7959\n",
            "Epoch 40/100\n",
            "4/4 [==============================] - 0s 12ms/step - loss: 0.4705 - accuracy: 0.7577 - val_loss: 0.4974 - val_accuracy: 0.7959\n",
            "Epoch 41/100\n",
            "4/4 [==============================] - 0s 8ms/step - loss: 0.5013 - accuracy: 0.7784 - val_loss: 0.4958 - val_accuracy: 0.7959\n",
            "Epoch 42/100\n",
            "4/4 [==============================] - 0s 9ms/step - loss: 0.4625 - accuracy: 0.7784 - val_loss: 0.4941 - val_accuracy: 0.7959\n",
            "Epoch 43/100\n",
            "4/4 [==============================] - 0s 9ms/step - loss: 0.4598 - accuracy: 0.7990 - val_loss: 0.4928 - val_accuracy: 0.8163\n",
            "Epoch 44/100\n",
            "4/4 [==============================] - 0s 9ms/step - loss: 0.4472 - accuracy: 0.7990 - val_loss: 0.4913 - val_accuracy: 0.8163\n",
            "Epoch 45/100\n",
            "4/4 [==============================] - 0s 9ms/step - loss: 0.4607 - accuracy: 0.7887 - val_loss: 0.4906 - val_accuracy: 0.8163\n",
            "Epoch 46/100\n",
            "4/4 [==============================] - 0s 9ms/step - loss: 0.4622 - accuracy: 0.7784 - val_loss: 0.4894 - val_accuracy: 0.8163\n",
            "Epoch 47/100\n",
            "4/4 [==============================] - 0s 11ms/step - loss: 0.4544 - accuracy: 0.8041 - val_loss: 0.4883 - val_accuracy: 0.8163\n",
            "Epoch 48/100\n",
            "4/4 [==============================] - 0s 8ms/step - loss: 0.4617 - accuracy: 0.8093 - val_loss: 0.4872 - val_accuracy: 0.8163\n",
            "Epoch 49/100\n",
            "4/4 [==============================] - 0s 15ms/step - loss: 0.4557 - accuracy: 0.7732 - val_loss: 0.4861 - val_accuracy: 0.8163\n",
            "Epoch 50/100\n",
            "4/4 [==============================] - 0s 9ms/step - loss: 0.4466 - accuracy: 0.7887 - val_loss: 0.4850 - val_accuracy: 0.8163\n",
            "Epoch 51/100\n",
            "4/4 [==============================] - 0s 8ms/step - loss: 0.4461 - accuracy: 0.7784 - val_loss: 0.4846 - val_accuracy: 0.8163\n",
            "Epoch 52/100\n",
            "4/4 [==============================] - 0s 9ms/step - loss: 0.4744 - accuracy: 0.7990 - val_loss: 0.4836 - val_accuracy: 0.8163\n",
            "Epoch 53/100\n",
            "4/4 [==============================] - 0s 14ms/step - loss: 0.4668 - accuracy: 0.7990 - val_loss: 0.4826 - val_accuracy: 0.8163\n",
            "Epoch 54/100\n",
            "4/4 [==============================] - 0s 11ms/step - loss: 0.4591 - accuracy: 0.7835 - val_loss: 0.4818 - val_accuracy: 0.8163\n",
            "Epoch 55/100\n",
            "4/4 [==============================] - 0s 9ms/step - loss: 0.4411 - accuracy: 0.7887 - val_loss: 0.4808 - val_accuracy: 0.8163\n",
            "Epoch 56/100\n",
            "4/4 [==============================] - 0s 9ms/step - loss: 0.4647 - accuracy: 0.7680 - val_loss: 0.4803 - val_accuracy: 0.8163\n",
            "Epoch 57/100\n",
            "4/4 [==============================] - 0s 8ms/step - loss: 0.4712 - accuracy: 0.7784 - val_loss: 0.4797 - val_accuracy: 0.8163\n",
            "Epoch 58/100\n",
            "4/4 [==============================] - 0s 11ms/step - loss: 0.4393 - accuracy: 0.7938 - val_loss: 0.4789 - val_accuracy: 0.8163\n",
            "Epoch 59/100\n",
            "4/4 [==============================] - 0s 8ms/step - loss: 0.4637 - accuracy: 0.7784 - val_loss: 0.4787 - val_accuracy: 0.8163\n",
            "Epoch 60/100\n",
            "4/4 [==============================] - 0s 8ms/step - loss: 0.4541 - accuracy: 0.7938 - val_loss: 0.4786 - val_accuracy: 0.8163\n",
            "Epoch 61/100\n",
            "4/4 [==============================] - 0s 10ms/step - loss: 0.4441 - accuracy: 0.7784 - val_loss: 0.4787 - val_accuracy: 0.8163\n",
            "Epoch 62/100\n",
            "4/4 [==============================] - 0s 10ms/step - loss: 0.4490 - accuracy: 0.7938 - val_loss: 0.4785 - val_accuracy: 0.8163\n",
            "Epoch 63/100\n",
            "4/4 [==============================] - 0s 9ms/step - loss: 0.4453 - accuracy: 0.7990 - val_loss: 0.4777 - val_accuracy: 0.8163\n",
            "Epoch 64/100\n",
            "4/4 [==============================] - 0s 9ms/step - loss: 0.4312 - accuracy: 0.7887 - val_loss: 0.4771 - val_accuracy: 0.8163\n",
            "Epoch 65/100\n",
            "4/4 [==============================] - 0s 9ms/step - loss: 0.4485 - accuracy: 0.7990 - val_loss: 0.4765 - val_accuracy: 0.8163\n",
            "Epoch 66/100\n",
            "4/4 [==============================] - 0s 12ms/step - loss: 0.4374 - accuracy: 0.8144 - val_loss: 0.4754 - val_accuracy: 0.8163\n"
          ]
        }
      ]
    },
    {
      "cell_type": "code",
      "source": [
        "score_dense = model.evaluate(train_ds, verbose=0)\n",
        "print(score_dense) # max score validity"
      ],
      "metadata": {
        "colab": {
          "base_uri": "https://localhost:8080/"
        },
        "id": "KbgcXWSwKJ0M",
        "outputId": "02a6cfcf-c0d9-4480-cf82-d59beae3779d"
      },
      "execution_count": null,
      "outputs": [
        {
          "output_type": "stream",
          "name": "stdout",
          "text": [
            "[0.4414732754230499, 0.7989690899848938]\n"
          ]
        }
      ]
    },
    {
      "cell_type": "code",
      "source": [
        "history.history.keys()"
      ],
      "metadata": {
        "colab": {
          "base_uri": "https://localhost:8080/"
        },
        "id": "uMehvfCaoSk1",
        "outputId": "f75e5126-98ff-44b3-b87a-98666c4b486f"
      },
      "execution_count": null,
      "outputs": [
        {
          "output_type": "execute_result",
          "data": {
            "text/plain": [
              "dict_keys(['loss', 'accuracy', 'val_loss', 'val_accuracy'])"
            ]
          },
          "metadata": {},
          "execution_count": 29
        }
      ]
    },
    {
      "cell_type": "code",
      "source": [
        "import matplotlib.pyplot as plt\n",
        "plt.plot(history.history['val_accuracy'])\n",
        "plt.ylabel('validation accuracy')\n",
        "plt.xlabel('epochs')\n",
        "plt.title('MLP Model Validation Accuracy')\n",
        "plt.show()"
      ],
      "metadata": {
        "colab": {
          "base_uri": "https://localhost:8080/",
          "height": 301
        },
        "id": "hEcQEDAPpO-v",
        "outputId": "a81d58dc-0c95-40a9-a3b5-5ccbe836b821"
      },
      "execution_count": null,
      "outputs": [
        {
          "output_type": "display_data",
          "data": {
            "text/plain": [
              "<Figure size 432x288 with 1 Axes>"
            ],
            "image/png": "[encoded data removed]"
          },
          "metadata": {}
        }
      ]
    },
    {
      "cell_type": "code",
      "source": [
        "import seaborn as sns\n",
        "from sklearn.metrics import accuracy_score, confusion_matrix\n",
        "predictions=model.predict(val_ds)\n",
        "predictions=predictions.ravel()\n",
        "predictions = (model.predict(val_ds) > 0.5).astype(\"int32\")\n",
        "for x,y in val_ds:\n",
        "  print(y)\n",
        "  confusion = confusion_matrix(y, predictions)\n",
        "  sns.heatmap(confusion, annot = True, fmt = 'd', cbar_kws={'label':'count'});\n",
        "#val_ds.shape()\n",
        "#predictions=predictions.reshape((1))\n",
        "#confusion = confusion_matrix(val_ds, predictions)\n",
        "#sns.heatmap(confusion, annot = True, fmt = 'd', cbar_kws={'label':'count'});\n",
        "plt.ylabel('Actual');\n",
        "plt.xlabel('Predicted');"
      ],
      "metadata": {
        "colab": {
          "base_uri": "https://localhost:8080/",
          "height": 372
        },
        "id": "zc0kvY6EsxNI",
        "outputId": "f3f635e6-7e15-462d-b5ea-793104ba185d"
      },
      "execution_count": null,
      "outputs": [
        {
          "output_type": "stream",
          "name": "stdout",
          "text": [
            "1/1 [==============================] - 0s 109ms/step\n",
            "1/1 [==============================] - 0s 6ms/step\n",
            "tf.Tensor(\n",
            "[0 1 1 1 0 1 1 1 0 1 1 0 0 0 1 0 1 1 0 1 0 1 0 1 0 1 1 1 1 0 1 0 1 0 0 1 1\n",
            " 1 1 1 0 0 0 0 0 1 0 1 1], shape=(49,), dtype=int64)\n"
          ]
        },
        {
          "output_type": "display_data",
          "data": {
            "text/plain": [
              "<Figure size 432x288 with 2 Axes>"
            ],
            "image/png": "[encoded data removed]"
          },
          "metadata": {}
        }
      ]
    },
    {
      "cell_type": "code",
      "source": [
        "#ANALYSIS\n",
        "#there is a jump from 60-64% from decision trees to neural network using Portugal dataset - linear + sigmoid\n",
        "#there is an 81.63% validation accuracy in predicting whether a fire will occur or not (Algerian dataset) -linear + sigmoid\n",
        "#improved algerian by using portugal dataset to predict area affected as well\n",
        "#diff datasets and methods to solve portugal problem\n",
        "#I have corroborated the portugal dataset with algerian dataset and imporved upon by using a different method than what portugal did\n",
        "#patterns between different locations - using different method to analyze\n",
        "#find factors that impact the fire the most between both datasets - they don't know how a fire comes? i know it can come b/c of xyz thing being large\n",
        "#fire yes no? big fire yes no?"
      ],
      "metadata": {
        "id": "IiYyxVZdKM5R"
      },
      "execution_count": null,
      "outputs": []
    },
    {
      "cell_type": "code",
      "source": [
        "# only for if data is Algerian Forest Fire Data\n",
        "#Sisikoyou County Data during the latest 97 fire which burned 30 acres\n",
        "\n",
        "#9/27 - 9/29\n",
        "#\"temp\": 31.6667,\n",
        "#\"wind\": 38.6243,\n",
        "#\"rain\": 0,\n",
        "#\"RH\": 63,\n",
        "\n",
        "#9/2 Siskiyou County Mill Fire (large fire) - data predicted as a 95.9% chance of a fire occurring on this day\n",
        "#given a 95.9% chance of a fire\n",
        "\n",
        "#\"temp\": 38.8889,\n",
        "#\"wind\": 37.0149,\n",
        "#\"rain\": 0,\n",
        "#\"RH\": 31,\n",
        "\n",
        "#9/1 - the day preceding the fire is already highly suspected by this model giving a 94.5%\n",
        "#chance of a fire\n",
        "#\"temp\": 37.7778,\n",
        "#\"wind\": 16.0934,\n",
        "#\"rain\": 0,\n",
        "#\"RH\": 37,\n",
        "\n",
        "#9/2 being shown currently\n",
        "\n",
        "\n",
        "#change F to C and mi to km - Conversions\n",
        "#why is max for temp etc. good?\n",
        "\n",
        "#temperature = 102.00002 #F\n",
        "#wind = 23 #mph\n",
        "#rain = 0 #mm\n",
        "#RH = 31 #no units\n",
        "\n",
        "#today\n",
        "temperature = 52\n",
        "wind = 21\n",
        "rain = 0.11\n",
        "RH = 73\n",
        "\n",
        "#temperature = 102\n",
        "#wind = 23\n",
        "#rain = 0\n",
        "#RH = 37\n",
        "sample = {\n",
        "    \"temp\": (temperature-32)*5/9,\n",
        "    \"wind\": 1.609344*wind,\n",
        "    \"rain\": rain,\n",
        "    \"RH\": RH,\n",
        "}\n",
        "\n",
        "input_dict = {name: tf.convert_to_tensor([value]) for name, value in sample.items()}\n",
        "predictions = model.predict(input_dict)\n",
        "\n",
        "print(\n",
        "    \"This particular case had a %.1f percent probability \"\n",
        "    \"of having a forest-fire, as evaluated by our model.\" % (100 * predictions[0][0],)\n",
        ")\n",
        "\n",
        "#predicted probability of forest fire\n",
        "#accuracy extracted"
      ],
      "metadata": {
        "colab": {
          "base_uri": "https://localhost:8080/"
        },
        "id": "TX902qmDN25l",
        "outputId": "817f5dfc-bb7f-4c1c-b695-91ba9751a198"
      },
      "execution_count": null,
      "outputs": [
        {
          "output_type": "stream",
          "name": "stdout",
          "text": [
            "1/1 [==============================] - 0s 27ms/step\n",
            "This particular case had a 0.6 percent probability of having a forest-fire, as evaluated by our model.\n"
          ]
        }
      ]
    }
  ]
}